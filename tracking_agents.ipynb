{
  "cells": [
    {
      "cell_type": "markdown",
      "metadata": {
        "id": "view-in-github",
        "colab_type": "text"
      },
      "source": [
        "<a href=\"https://colab.research.google.com/github/TirendazAcademy/Tracking-Agents-with-Comet/blob/main/tracking_agents.ipynb\" target=\"_parent\"><img src=\"https://colab.research.google.com/assets/colab-badge.svg\" alt=\"Open In Colab\"/></a>"
      ]
    },
    {
      "cell_type": "code",
      "source": [
        "!pip install -q -U langchain-openai openai langchain tiktoken comet_llm google-search-results cohere chromadb tensorflow-probability kaleido python-multipart"
      ],
      "metadata": {
        "id": "v9mrWMTDCfHK"
      },
      "execution_count": null,
      "outputs": []
    },
    {
      "cell_type": "markdown",
      "metadata": {
        "id": "BrZXc4DHBxIl"
      },
      "source": [
        "# Importing the necessary libraries"
      ]
    },
    {
      "cell_type": "code",
      "execution_count": 2,
      "metadata": {
        "id": "Lof54YguBxIn"
      },
      "outputs": [],
      "source": [
        "import os\n",
        "import comet_llm\n",
        "\n",
        "os.environ[\"COMET_API_KEY\"] = \"...\"\n",
        "os.environ[\"OPENAI_API_KEY\"] = \"...\"\n",
        "os.environ[\"SERPAPI_API_KEY\"] = \"...\"\n",
        "\n",
        "comet_llm.init(project=\"comet-langchain-agents\")"
      ]
    },
    {
      "cell_type": "markdown",
      "metadata": {
        "id": "vzfUNNdeBxIn"
      },
      "source": [
        "# Scraping the data"
      ]
    },
    {
      "cell_type": "code",
      "execution_count": 3,
      "metadata": {
        "id": "RVcQY6zNBxIo"
      },
      "outputs": [],
      "source": [
        "import requests\n",
        "from bs4 import BeautifulSoup\n",
        "\n",
        "# URL of the Wikipedia page to scrape\n",
        "url = 'https://en.wikipedia.org/wiki/MrBeast'\n",
        "\n",
        "# Send a GET request to the URL\n",
        "response = requests.get(url)\n",
        "\n",
        "# Parse the HTML content using BeautifulSoup\n",
        "soup = BeautifulSoup(response.content, 'html.parser')\n",
        "\n",
        "# Find all the text on the page\n",
        "text = soup.get_text()\n",
        "\n",
        "# Open a new file called 'output.txt' in write mode and store the file object in a variable\n",
        "with open('output.txt', 'w', encoding='utf-8') as file:\n",
        "    # Write the string to the file\n",
        "    file.write(text)\n",
        "\n",
        "# load the document\n",
        "with open('./output.txt', encoding='utf-8') as f:\n",
        "    text = f.read()"
      ]
    },
    {
      "cell_type": "markdown",
      "metadata": {
        "id": "sQpjLU5gBxIq"
      },
      "source": [
        "# Data ingestion"
      ]
    },
    {
      "cell_type": "code",
      "source": [
        "from langchain.text_splitter import RecursiveCharacterTextSplitter\n",
        "from langchain_openai import OpenAIEmbeddings\n",
        "from langchain.vectorstores import Chroma\n",
        "\n",
        "# define the text splitter\n",
        "text_splitter = RecursiveCharacterTextSplitter(\n",
        "    chunk_size = 500,\n",
        "    chunk_overlap  = 100,\n",
        "    length_function = len,\n",
        ")\n",
        "\n",
        "texts = text_splitter.create_documents([text])\n",
        "\n",
        "# define the embeddings model\n",
        "embeddings = OpenAIEmbeddings()\n",
        "\n",
        "# use the text chunks and the embeddings model to fill our vector store\n",
        "db = Chroma.from_documents(texts, embeddings)"
      ],
      "metadata": {
        "id": "n7nXn9h0vZIU"
      },
      "execution_count": 4,
      "outputs": []
    },
    {
      "cell_type": "markdown",
      "metadata": {
        "id": "agFoS85UBxIr"
      },
      "source": [
        "# Tracking an agent with Comet ML"
      ]
    },
    {
      "cell_type": "code",
      "source": [
        "from langchain_openai import OpenAI\n",
        "from langchain.agents import initialize_agent, load_tools\n",
        "from langchain import PromptTemplate\n",
        "from langchain.callbacks import CometCallbackHandler, StdOutCallbackHandler\n",
        "#from langchain.callbacks.tracers.comet import CometTracer\n",
        "\n",
        "comet_callback = CometCallbackHandler(\n",
        "    project_name=\"comet-langchain-agents\",\n",
        "    complexity_metrics=True,\n",
        "    stream_logs=True,\n",
        "    tags=[\"agent\"],\n",
        ")\n",
        "\n",
        "# Create a comet callback\n",
        "callbacks = [StdOutCallbackHandler(), comet_callback]\n",
        "\n",
        "# Define an openai llm\n",
        "llm = OpenAI(temperature=0.9, callbacks=callbacks)\n",
        "\n",
        "# Define a question\n",
        "users_question = \"What is MrBeast's age to the power of 0.54?\"\n",
        "\n",
        "# use our vector store to find similar text chunks\n",
        "results = db.similarity_search(\n",
        "    query=users_question,\n",
        ")\n",
        "\n",
        "# define the prompt template\n",
        "template = \"\"\"\n",
        "\n",
        "You are a chatbot who loves helping people! Given the context sections below, \\\n",
        "answer the question using only the context provided.\n",
        "\n",
        "Context sections:\n",
        "{context}\n",
        "\n",
        "Question:\n",
        "{users_question}\n",
        "\n",
        "Answer:\n",
        "\"\"\"\n",
        "\n",
        "# Create a prompt template\n",
        "prompt = PromptTemplate(template=template, input_variables=[\"context\", \"users_question\"])\n",
        "\n",
        "# Fill the prompt template\n",
        "prompt_text = prompt.format(context = results, users_question = users_question)\n",
        "\n",
        "# Load tools\n",
        "tools = load_tools([\"serpapi\", \"llm-math\"], llm=llm, callbacks=callbacks, verbose=True)\n",
        "\n",
        "# Initialize an agent\n",
        "agent = initialize_agent(\n",
        "    tools,\n",
        "    llm,\n",
        "    agent=\"zero-shot-react-description\",\n",
        "    callbacks=callbacks,\n",
        "    verbose=True,\n",
        ")\n",
        "\n",
        "# Run the agent\n",
        "agent.run(prompt_text, callbacks=callbacks,)\n",
        "comet_callback.flush_tracker(agent, finish=True)"
      ],
      "metadata": {
        "colab": {
          "base_uri": "https://localhost:8080/"
        },
        "id": "DyH54vjvxp87",
        "outputId": "ef6ef749-099f-4ddc-869f-139e93a2c46f"
      },
      "execution_count": 7,
      "outputs": [
        {
          "output_type": "stream",
          "name": "stderr",
          "text": [
            "\u001b[1;38;5;214mCOMET WARNING:\u001b[0m As you are running in a Jupyter environment, you will need to call `experiment.end()` when finished to ensure all metrics and code are logged before exiting.\n",
            "\u001b[1;38;5;39mCOMET INFO:\u001b[0m Couldn't find a Git repository in '/content' nor in any parent directory. Set `COMET_GIT_DIRECTORY` if your Git Repository is elsewhere.\n",
            "\u001b[1;38;5;39mCOMET INFO:\u001b[0m Experiment is live on comet.com https://www.comet.com/tirendaz-test/comet-langchain-agents/e61921622cdf4eea8fe6e838b19d9276\n",
            "\n",
            "\u001b[1;38;5;214mCOMET WARNING:\u001b[0m The comet_ml callback is currently in beta and is subject to change based on updates to `langchain`. Please report any issues to https://github.com/comet-ml/issue-tracking/issues with the tag `langchain`.\n",
            "/usr/local/lib/python3.10/dist-packages/langchain_core/_api/deprecation.py:117: LangChainDeprecationWarning: The function `initialize_agent` was deprecated in LangChain 0.1.0 and will be removed in 0.2.0. Use Use new agent constructor methods like create_react_agent, create_json_agent, create_structured_chat_agent, etc. instead.\n",
            "  warn_deprecated(\n",
            "/usr/local/lib/python3.10/dist-packages/langchain_core/_api/deprecation.py:117: LangChainDeprecationWarning: The function `run` was deprecated in LangChain 0.1.0 and will be removed in 0.2.0. Use invoke instead.\n",
            "  warn_deprecated(\n",
            "\u001b[1;38;5;214mCOMET WARNING:\u001b[0m Unexpected data format provided! Input Value for stop will not be logged\n"
          ]
        },
        {
          "output_type": "stream",
          "name": "stdout",
          "text": [
            "\n",
            "\n",
            "\u001b[1m> Entering new AgentExecutor chain...\u001b[0m\n",
            "\n",
            "\n",
            "\u001b[1m> Entering new LLMChain chain...\u001b[0m\n",
            "Prompt after formatting:\n",
            "\u001b[32;1m\u001b[1;3mAnswer the following questions as best you can. You have access to the following tools:\n",
            "\n",
            "Search: A search engine. Useful for when you need to answer questions about current events. Input should be a search query.\n",
            "Calculator: Useful for when you need to answer questions about math.\n",
            "\n",
            "Use the following format:\n",
            "\n",
            "Question: the input question you must answer\n",
            "Thought: you should always think about what to do\n",
            "Action: the action to take, should be one of [Search, Calculator]\n",
            "Action Input: the input to the action\n",
            "Observation: the result of the action\n",
            "... (this Thought/Action/Action Input/Observation can repeat N times)\n",
            "Thought: I now know the final answer\n",
            "Final Answer: the final answer to the original input question\n",
            "\n",
            "Begin!\n",
            "\n",
            "Question: \n",
            "\n",
            "You are a chatbot who loves helping people! Given the context sections below, answer the question using only the context provided.\n",
            "\n",
            "Context sections:\n",
            "[Document(page_content='^ a b c d e \"21-year-old YouTuber MrBeast was one of the most-viewed YouTube creators in 2019 – check out how he got his start and found success with elaborate stunts and giveaways\". Business Insider. Archived from the original on December 6, 2021. Retrieved September 1, 2021.\\n\\n^ a b Shaw, Lucas; Bergen, Mark (December 22, 2020). \"The North Carolina Kid Who Cracked YouTube\\'s Secret Code\". Bloomberg.com. Bloomberg. Archived from the original on December 23, 2020. Retrieved December 23, 2020.'), Document(page_content='^ Asarch, Paige Leskin, Melia Russell, Steven (June 16, 2019). \"Meet the 22-year-old YouTube star MrBeast, who\\'s famous for giving away millions of dollars to strangers\". Business Insider. Archived from the original on December 25, 2020. Retrieved June 5, 2022.{{cite web}}:  CS1 maint: multiple names: authors list (link)\\n\\n^ Lorenz, Taylor (May 4, 2021). \"Mr. Beast, YouTube Star, Wants to Take Over the Business World\". The New York Times.'), Document(page_content='MrBeast\\nYears\\xa0active2012–presentGenres\\nChallenge\\nvlogs\\ngaming\\nreaction\\nSubscribers\\n240 million (main channel)\\n381 million (combined)[a]\\n[2]Total\\xa0views\\n43.3 billion (main channel)\\n63 billion (combined)\\n[2]Associated acts\\nKarl Jacobs\\nPewDiePie\\nMarques Brownlee\\nJay Leno\\nMark Rober\\nGordon Ramsay\\nAirrack'), Document(page_content='Rise to fame (2017–2020)\\nMrBeast in 2018')]\n",
            "\n",
            "Question:\n",
            "What is MrBeast's age to the power of 0.54?\n",
            "\n",
            "Answer:\n",
            "\n",
            "Thought:\u001b[0m\n"
          ]
        },
        {
          "output_type": "stream",
          "name": "stderr",
          "text": [
            "WARNING:langchain_core.callbacks.manager:Error in CometCallbackHandler.on_llm_end callback: ImportError('This callback manager requires the `textstat` python package installed. Please install it with `pip install textstat`')\n"
          ]
        },
        {
          "output_type": "stream",
          "name": "stdout",
          "text": [
            "\n",
            "\u001b[1m> Finished chain.\u001b[0m\n",
            "\u001b[32;1m\u001b[1;3m I need to find out MrBeast's age to the power of 0.54.\n",
            "Action: Search\n",
            "Action Input: \"MrBeast age\"\u001b[0m"
          ]
        },
        {
          "output_type": "stream",
          "name": "stderr",
          "text": [
            "\u001b[1;38;5;214mCOMET WARNING:\u001b[0m Unexpected data format provided! Input Value for stop will not be logged\n"
          ]
        },
        {
          "output_type": "stream",
          "name": "stdout",
          "text": [
            "\n",
            "Observation: \u001b[36;1m\u001b[1;3m25 years\u001b[0m\n",
            "Thought:\n",
            "\n",
            "\u001b[1m> Entering new LLMChain chain...\u001b[0m\n",
            "Prompt after formatting:\n",
            "\u001b[32;1m\u001b[1;3mAnswer the following questions as best you can. You have access to the following tools:\n",
            "\n",
            "Search: A search engine. Useful for when you need to answer questions about current events. Input should be a search query.\n",
            "Calculator: Useful for when you need to answer questions about math.\n",
            "\n",
            "Use the following format:\n",
            "\n",
            "Question: the input question you must answer\n",
            "Thought: you should always think about what to do\n",
            "Action: the action to take, should be one of [Search, Calculator]\n",
            "Action Input: the input to the action\n",
            "Observation: the result of the action\n",
            "... (this Thought/Action/Action Input/Observation can repeat N times)\n",
            "Thought: I now know the final answer\n",
            "Final Answer: the final answer to the original input question\n",
            "\n",
            "Begin!\n",
            "\n",
            "Question: \n",
            "\n",
            "You are a chatbot who loves helping people! Given the context sections below, answer the question using only the context provided.\n",
            "\n",
            "Context sections:\n",
            "[Document(page_content='^ a b c d e \"21-year-old YouTuber MrBeast was one of the most-viewed YouTube creators in 2019 – check out how he got his start and found success with elaborate stunts and giveaways\". Business Insider. Archived from the original on December 6, 2021. Retrieved September 1, 2021.\\n\\n^ a b Shaw, Lucas; Bergen, Mark (December 22, 2020). \"The North Carolina Kid Who Cracked YouTube\\'s Secret Code\". Bloomberg.com. Bloomberg. Archived from the original on December 23, 2020. Retrieved December 23, 2020.'), Document(page_content='^ Asarch, Paige Leskin, Melia Russell, Steven (June 16, 2019). \"Meet the 22-year-old YouTube star MrBeast, who\\'s famous for giving away millions of dollars to strangers\". Business Insider. Archived from the original on December 25, 2020. Retrieved June 5, 2022.{{cite web}}:  CS1 maint: multiple names: authors list (link)\\n\\n^ Lorenz, Taylor (May 4, 2021). \"Mr. Beast, YouTube Star, Wants to Take Over the Business World\". The New York Times.'), Document(page_content='MrBeast\\nYears\\xa0active2012–presentGenres\\nChallenge\\nvlogs\\ngaming\\nreaction\\nSubscribers\\n240 million (main channel)\\n381 million (combined)[a]\\n[2]Total\\xa0views\\n43.3 billion (main channel)\\n63 billion (combined)\\n[2]Associated acts\\nKarl Jacobs\\nPewDiePie\\nMarques Brownlee\\nJay Leno\\nMark Rober\\nGordon Ramsay\\nAirrack'), Document(page_content='Rise to fame (2017–2020)\\nMrBeast in 2018')]\n",
            "\n",
            "Question:\n",
            "What is MrBeast's age to the power of 0.54?\n",
            "\n",
            "Answer:\n",
            "\n",
            "Thought: I need to find out MrBeast's age to the power of 0.54.\n",
            "Action: Search\n",
            "Action Input: \"MrBeast age\"\n",
            "Observation: 25 years\n",
            "Thought:\u001b[0m\n"
          ]
        },
        {
          "output_type": "stream",
          "name": "stderr",
          "text": [
            "WARNING:langchain_core.callbacks.manager:Error in CometCallbackHandler.on_llm_end callback: ImportError('This callback manager requires the `textstat` python package installed. Please install it with `pip install textstat`')\n",
            "\u001b[1;38;5;214mCOMET WARNING:\u001b[0m Unexpected data format provided! Input Value for stop will not be logged\n"
          ]
        },
        {
          "output_type": "stream",
          "name": "stdout",
          "text": [
            "\n",
            "\u001b[1m> Finished chain.\u001b[0m\n",
            "\u001b[32;1m\u001b[1;3m I need to calculate 25 to the power of 0.54\n",
            "Action: Calculator\n",
            "Action Input: 25^0.54\u001b[0m\n",
            "\n",
            "\u001b[1m> Entering new LLMMathChain chain...\u001b[0m\n",
            "25^0.54\n",
            "\n",
            "\u001b[1m> Entering new LLMChain chain...\u001b[0m\n",
            "Prompt after formatting:\n",
            "\u001b[32;1m\u001b[1;3mTranslate a math problem into a expression that can be executed using Python's numexpr library. Use the output of running this code to answer the question.\n",
            "\n",
            "Question: ${Question with math problem.}\n",
            "```text\n",
            "${single line mathematical expression that solves the problem}\n",
            "```\n",
            "...numexpr.evaluate(text)...\n",
            "```output\n",
            "${Output of running the code}\n",
            "```\n",
            "Answer: ${Answer}\n",
            "\n",
            "Begin.\n",
            "\n",
            "Question: What is 37593 * 67?\n",
            "```text\n",
            "37593 * 67\n",
            "```\n",
            "...numexpr.evaluate(\"37593 * 67\")...\n",
            "```output\n",
            "2518731\n",
            "```\n",
            "Answer: 2518731\n",
            "\n",
            "Question: 37593^(1/5)\n",
            "```text\n",
            "37593**(1/5)\n",
            "```\n",
            "...numexpr.evaluate(\"37593**(1/5)\")...\n",
            "```output\n",
            "8.222831614237718\n",
            "```\n",
            "Answer: 8.222831614237718\n",
            "\n",
            "Question: 25^0.54\n",
            "\u001b[0m\n"
          ]
        },
        {
          "output_type": "stream",
          "name": "stderr",
          "text": [
            "WARNING:langchain_core.callbacks.manager:Error in CometCallbackHandler.on_llm_end callback: ImportError('This callback manager requires the `textstat` python package installed. Please install it with `pip install textstat`')\n",
            "\u001b[1;38;5;214mCOMET WARNING:\u001b[0m Unexpected data format provided! Input Value for stop will not be logged\n"
          ]
        },
        {
          "output_type": "stream",
          "name": "stdout",
          "text": [
            "\n",
            "\u001b[1m> Finished chain.\u001b[0m\n",
            "\u001b[32;1m\u001b[1;3m```text\n",
            "25**0.54\n",
            "```\n",
            "...numexpr.evaluate(\"25**0.54\")...\n",
            "\u001b[0m\n",
            "Answer: \u001b[33;1m\u001b[1;3m5.687057308780144\u001b[0m\n",
            "\u001b[1m> Finished chain.\u001b[0m\n",
            "\n",
            "Observation: \u001b[33;1m\u001b[1;3mAnswer: 5.687057308780144\u001b[0m\n",
            "Thought:\n",
            "\n",
            "\u001b[1m> Entering new LLMChain chain...\u001b[0m\n",
            "Prompt after formatting:\n",
            "\u001b[32;1m\u001b[1;3mAnswer the following questions as best you can. You have access to the following tools:\n",
            "\n",
            "Search: A search engine. Useful for when you need to answer questions about current events. Input should be a search query.\n",
            "Calculator: Useful for when you need to answer questions about math.\n",
            "\n",
            "Use the following format:\n",
            "\n",
            "Question: the input question you must answer\n",
            "Thought: you should always think about what to do\n",
            "Action: the action to take, should be one of [Search, Calculator]\n",
            "Action Input: the input to the action\n",
            "Observation: the result of the action\n",
            "... (this Thought/Action/Action Input/Observation can repeat N times)\n",
            "Thought: I now know the final answer\n",
            "Final Answer: the final answer to the original input question\n",
            "\n",
            "Begin!\n",
            "\n",
            "Question: \n",
            "\n",
            "You are a chatbot who loves helping people! Given the context sections below, answer the question using only the context provided.\n",
            "\n",
            "Context sections:\n",
            "[Document(page_content='^ a b c d e \"21-year-old YouTuber MrBeast was one of the most-viewed YouTube creators in 2019 – check out how he got his start and found success with elaborate stunts and giveaways\". Business Insider. Archived from the original on December 6, 2021. Retrieved September 1, 2021.\\n\\n^ a b Shaw, Lucas; Bergen, Mark (December 22, 2020). \"The North Carolina Kid Who Cracked YouTube\\'s Secret Code\". Bloomberg.com. Bloomberg. Archived from the original on December 23, 2020. Retrieved December 23, 2020.'), Document(page_content='^ Asarch, Paige Leskin, Melia Russell, Steven (June 16, 2019). \"Meet the 22-year-old YouTube star MrBeast, who\\'s famous for giving away millions of dollars to strangers\". Business Insider. Archived from the original on December 25, 2020. Retrieved June 5, 2022.{{cite web}}:  CS1 maint: multiple names: authors list (link)\\n\\n^ Lorenz, Taylor (May 4, 2021). \"Mr. Beast, YouTube Star, Wants to Take Over the Business World\". The New York Times.'), Document(page_content='MrBeast\\nYears\\xa0active2012–presentGenres\\nChallenge\\nvlogs\\ngaming\\nreaction\\nSubscribers\\n240 million (main channel)\\n381 million (combined)[a]\\n[2]Total\\xa0views\\n43.3 billion (main channel)\\n63 billion (combined)\\n[2]Associated acts\\nKarl Jacobs\\nPewDiePie\\nMarques Brownlee\\nJay Leno\\nMark Rober\\nGordon Ramsay\\nAirrack'), Document(page_content='Rise to fame (2017–2020)\\nMrBeast in 2018')]\n",
            "\n",
            "Question:\n",
            "What is MrBeast's age to the power of 0.54?\n",
            "\n",
            "Answer:\n",
            "\n",
            "Thought: I need to find out MrBeast's age to the power of 0.54.\n",
            "Action: Search\n",
            "Action Input: \"MrBeast age\"\n",
            "Observation: 25 years\n",
            "Thought: I need to calculate 25 to the power of 0.54\n",
            "Action: Calculator\n",
            "Action Input: 25^0.54\n",
            "Observation: Answer: 5.687057308780144\n",
            "Thought:\u001b[0m\n"
          ]
        },
        {
          "output_type": "stream",
          "name": "stderr",
          "text": [
            "WARNING:langchain_core.callbacks.manager:Error in CometCallbackHandler.on_llm_end callback: ImportError('This callback manager requires the `textstat` python package installed. Please install it with `pip install textstat`')\n"
          ]
        },
        {
          "output_type": "stream",
          "name": "stdout",
          "text": [
            "\n",
            "\u001b[1m> Finished chain.\u001b[0m\n",
            "\u001b[32;1m\u001b[1;3m I now know the final answer\n",
            "Final Answer: 5.687057308780144\u001b[0m\n",
            "\n",
            "\u001b[1m> Finished chain.\u001b[0m\n"
          ]
        },
        {
          "output_type": "stream",
          "name": "stderr",
          "text": [
            "\u001b[1;38;5;39mCOMET INFO:\u001b[0m ---------------------------------------------------------------------------------------\n",
            "\u001b[1;38;5;39mCOMET INFO:\u001b[0m Comet.ml Experiment Summary\n",
            "\u001b[1;38;5;39mCOMET INFO:\u001b[0m ---------------------------------------------------------------------------------------\n",
            "\u001b[1;38;5;39mCOMET INFO:\u001b[0m   Data:\n",
            "\u001b[1;38;5;39mCOMET INFO:\u001b[0m     display_summary_level : 1\n",
            "\u001b[1;38;5;39mCOMET INFO:\u001b[0m     url                   : https://www.comet.com/tirendaz-test/comet-langchain-agents/e61921622cdf4eea8fe6e838b19d9276\n",
            "\u001b[1;38;5;39mCOMET INFO:\u001b[0m   Others:\n",
            "\u001b[1;38;5;39mCOMET INFO:\u001b[0m     Created from    : langchain\n",
            "\u001b[1;38;5;39mCOMET INFO:\u001b[0m     hasNestedParams : True\n",
            "\u001b[1;38;5;39mCOMET INFO:\u001b[0m   Parameters:\n",
            "\u001b[1;38;5;39mCOMET INFO:\u001b[0m     model__type             : openai\n",
            "\u001b[1;38;5;39mCOMET INFO:\u001b[0m     model_frequency_penalty : 0\n",
            "\u001b[1;38;5;39mCOMET INFO:\u001b[0m     model_logit_bias        : {}\n",
            "\u001b[1;38;5;39mCOMET INFO:\u001b[0m     model_max_tokens        : 256\n",
            "\u001b[1;38;5;39mCOMET INFO:\u001b[0m     model_model_name        : gpt-3.5-turbo-instruct\n",
            "\u001b[1;38;5;39mCOMET INFO:\u001b[0m     model_n                 : 1\n",
            "\u001b[1;38;5;39mCOMET INFO:\u001b[0m     model_presence_penalty  : 0\n",
            "\u001b[1;38;5;39mCOMET INFO:\u001b[0m     model_temperature       : 0.9\n",
            "\u001b[1;38;5;39mCOMET INFO:\u001b[0m     model_top_p             : 1\n",
            "\u001b[1;38;5;39mCOMET INFO:\u001b[0m   Uploads:\n",
            "\u001b[1;38;5;39mCOMET INFO:\u001b[0m     asset               : 1\n",
            "\u001b[1;38;5;39mCOMET INFO:\u001b[0m     dataframe           : 1 (274 bytes)\n",
            "\u001b[1;38;5;39mCOMET INFO:\u001b[0m     environment details : 1\n",
            "\u001b[1;38;5;39mCOMET INFO:\u001b[0m     filename            : 1\n",
            "\u001b[1;38;5;39mCOMET INFO:\u001b[0m     installed packages  : 1\n",
            "\u001b[1;38;5;39mCOMET INFO:\u001b[0m     model-element       : 1 (2.00 KB)\n",
            "\u001b[1;38;5;39mCOMET INFO:\u001b[0m     notebook            : 2\n",
            "\u001b[1;38;5;39mCOMET INFO:\u001b[0m     os packages         : 1\n",
            "\u001b[1;38;5;39mCOMET INFO:\u001b[0m     source_code         : 1\n",
            "\u001b[1;38;5;39mCOMET INFO:\u001b[0m     text-sample         : 34\n",
            "\u001b[1;38;5;39mCOMET INFO:\u001b[0m \n"
          ]
        }
      ]
    },
    {
      "cell_type": "markdown",
      "metadata": {
        "id": "FlLigouIBxIr"
      },
      "source": [
        "## Resources\n",
        "\n",
        "- [All You Need to Know to Build Your First LLM App](https://towardsdatascience.com/all-you-need-to-know-to-build-your-first-llm-app-eb982c78ffac)\n",
        "- [Conversation QA Gradio ](https://github.com/hwchase17/conversation-qa-gradio/tree/master)\n",
        "\n",
        "Thanks for reading. Let's connect [YouTube](http://youtube.com/tirendazacademy) | [Medium](http://tirendazacademy.medium.com) | [Twitter](http://twitter.com/tirendazacademy) | [Linkedin](https://www.linkedin.com/in/tirendaz-academy) 😎"
      ]
    }
  ],
  "metadata": {
    "kernelspec": {
      "display_name": "llms",
      "language": "python",
      "name": "python3"
    },
    "language_info": {
      "codemirror_mode": {
        "name": "ipython",
        "version": 3
      },
      "file_extension": ".py",
      "mimetype": "text/x-python",
      "name": "python",
      "nbconvert_exporter": "python",
      "pygments_lexer": "ipython3",
      "version": "3.10.11"
    },
    "orig_nbformat": 4,
    "colab": {
      "provenance": [],
      "include_colab_link": true
    }
  },
  "nbformat": 4,
  "nbformat_minor": 0
}